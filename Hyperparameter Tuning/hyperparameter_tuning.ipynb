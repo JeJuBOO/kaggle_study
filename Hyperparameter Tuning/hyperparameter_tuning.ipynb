{
 "cells": [
  {
   "cell_type": "markdown",
   "metadata": {},
   "source": [
    "# Automated Hyperparameter Tuning with CV\n",
    "[캐글 페이지](https://www.kaggle.com/code/pavansanagapati/automated-hyperparameter-tuning)\n",
    "\n",
    "최적의 하이퍼파라미터 세트를 선택하기 위한 방법들을 정리.\n",
    "\n",
    "## 1. introduction\n",
    "\n",
    "하이퍼파라미터는 학습 전에 값을 설정하는 매개변수이다.\n",
    "\n",
    "일반적으로 아래 그림과 같이 최적의 파라피터를 찾는다.\n",
    "![](https://developer.qualcomm.com/sites/default/files/attachments/learning_resources_03-05.png)"
   ]
  },
  {
   "cell_type": "code",
   "execution_count": 2,
   "metadata": {},
   "outputs": [],
   "source": [
    "import pandas as pd\n",
    "from sklearn.preprocessing import StandardScaler\n",
    "from sklearn.model_selection import train_test_split"
   ]
  },
  {
   "cell_type": "code",
   "execution_count": 3,
   "metadata": {},
   "outputs": [],
   "source": [
    "# 신용 카드 사기 탐지 데이터 세트\n",
    "df = pd.read_csv('./data/creditcard.csv',na_values = '#NAME?')\n",
    "\n",
    "# 신용카드 데이터이기에 특징에 대한 설명이 없다. 주어진 특징들을 기반으로 사기인지 아닌지를 판단.\n",
    "X = df[['V17', 'V9', 'V6', 'V12']]\n",
    "Y = df['Class']"
   ]
  },
  {
   "cell_type": "code",
   "execution_count": 4,
   "metadata": {},
   "outputs": [],
   "source": [
    "X_Train, X_Test, Y_Train, Y_Test = train_test_split(X, Y, test_size = 0.30,random_state = 101)"
   ]
  },
  {
   "cell_type": "markdown",
   "metadata": {},
   "source": [
    "## 2. 수동 검색"
   ]
  },
  {
   "cell_type": "code",
   "execution_count": 21,
   "metadata": {},
   "outputs": [],
   "source": [
    "from sklearn.metrics import classification_report,confusion_matrix\n",
    "from sklearn.ensemble import RandomForestClassifier\n",
    "from sklearn.metrics import accuracy_score"
   ]
  },
  {
   "cell_type": "code",
   "execution_count": 22,
   "metadata": {},
   "outputs": [
    {
     "name": "stdout",
     "output_type": "stream",
     "text": [
      "[[85289    10]\n",
      " [   34   110]]\n",
      "              precision    recall  f1-score   support\n",
      "\n",
      "           0       1.00      1.00      1.00     85299\n",
      "           1       0.92      0.76      0.83       144\n",
      "\n",
      "    accuracy                           1.00     85443\n",
      "   macro avg       0.96      0.88      0.92     85443\n",
      "weighted avg       1.00      1.00      1.00     85443\n",
      "\n"
     ]
    }
   ],
   "source": [
    "# 모델을 Random Forest Classifier을 사용.\n",
    "model = RandomForestClassifier(random_state= 101).fit(X_Train,Y_Train)\n",
    "predictionforest = model.predict(X_Test)\n",
    "print(confusion_matrix(Y_Test,predictionforest))\n",
    "print(classification_report(Y_Test,predictionforest))\n",
    "acc1 = accuracy_score(Y_Test,predictionforest)"
   ]
  },
  {
   "cell_type": "markdown",
   "metadata": {},
   "source": [
    "수동 검색이라는 말 그래로 직접 매개변수를 경험적으로 변경하여 선택한다.  \n",
    "\n",
    "  [Random Forest Classifier의 주요 매개변수](https://scikit-learn.org/stable/modules/generated/sklearn.ensemble.RandomForestClassifier.html)\n",
    "* criterion : 분할 품질을 측정하는 기능. {“gini”, “entropy”, “log_loss”}, default=”gini”\n",
    "* max_depth : 각 트리에 허용되는 최대 수준 수 \n",
    "* max_features : 노드를 분할할 때 고려되는 최대 features 수. {“sqrt”, “log2”, None}, int 또는 float, default=”sqrt”\n",
    "* min_samples_leaf : tree leaf에 저장할 수 있는 최소 샘플 수.\n",
    "* min_samples_split : 노드 분할하기 위해 노드에 필요한 최소 샘플 수.\n",
    "* n_estimators : 앙상블의 tree 수."
   ]
  },
  {
   "cell_type": "code",
   "execution_count": 38,
   "metadata": {},
   "outputs": [
    {
     "name": "stdout",
     "output_type": "stream",
     "text": [
      "[[85276    23]\n",
      " [   41   103]]\n",
      "              precision    recall  f1-score   support\n",
      "\n",
      "           0       1.00      1.00      1.00     85299\n",
      "           1       0.82      0.72      0.76       144\n",
      "\n",
      "    accuracy                           1.00     85443\n",
      "   macro avg       0.91      0.86      0.88     85443\n",
      "weighted avg       1.00      1.00      1.00     85443\n",
      "\n"
     ]
    }
   ],
   "source": [
    "model2 = RandomForestClassifier(n_estimators=10, max_depth=2, random_state= 101).fit(X_Train,Y_Train)\n",
    "predictionforest = model2.predict(X_Test)\n",
    "print(confusion_matrix(Y_Test,predictionforest))\n",
    "print(classification_report(Y_Test,predictionforest))\n",
    "acc2 = accuracy_score(Y_Test,predictionforest)"
   ]
  },
  {
   "cell_type": "markdown",
   "metadata": {},
   "source": [
    "---------\n",
    "confusion matrix\n",
    "* TN : False를 **False**라고 예측한 개수 85289\n",
    "* TP : True를 **True**라고 예측한 개수 110\n",
    "* FP : False를 **True**라고 예측한 개수 10\n",
    "* FN : True를 **False**라고 예측한 개수 34\n",
    "\n",
    "Precision(정밀도) : 사기라고 예측한 경우중에서 실제 사기인 비율\n",
    "$$precision=\\frac{TP}{TP+FP}$$\n",
    "\n",
    "Recall(재현율) : 실제 사기인 경우중 사기라고 예측한 비율\n",
    "$$recall=\\frac{TP}{TP+FN}$$\n",
    "\n",
    "f1-score : 정밀도와 재현율의 조화 평균\n",
    "$$F1=2\\cdot precision\\cdot recall / (precision+recall)\n",
    "\n",
    "Support: 각 클래스의 실제 데이터 수   "
   ]
  },
  {
   "cell_type": "code",
   "execution_count": 39,
   "metadata": {},
   "outputs": [
    {
     "name": "stdout",
     "output_type": "stream",
     "text": [
      "{'bootstrap': True, 'ccp_alpha': 0.0, 'class_weight': None, 'criterion': 'gini', 'max_depth': None, 'max_features': 'sqrt', 'max_leaf_nodes': None, 'max_samples': None, 'min_impurity_decrease': 0.0, 'min_samples_leaf': 1, 'min_samples_split': 2, 'min_weight_fraction_leaf': 0.0, 'n_estimators': 100, 'n_jobs': None, 'oob_score': False, 'random_state': 101, 'verbose': 0, 'warm_start': False}\n",
      "{'bootstrap': True, 'ccp_alpha': 0.0, 'class_weight': None, 'criterion': 'gini', 'max_depth': 2, 'max_features': 'sqrt', 'max_leaf_nodes': None, 'max_samples': None, 'min_impurity_decrease': 0.0, 'min_samples_leaf': 1, 'min_samples_split': 2, 'min_weight_fraction_leaf': 0.0, 'n_estimators': 10, 'n_jobs': None, 'oob_score': False, 'random_state': 101, 'verbose': 0, 'warm_start': False}\n"
     ]
    }
   ],
   "source": [
    "print(model.get_params())\n",
    "print(model2.get_params())"
   ]
  },
  {
   "cell_type": "markdown",
   "metadata": {},
   "source": [
    "## 3. Grid Search\n",
    "하이퍼파라미터 그리드를 설정하고 각 조합에 대한 학습을 진행하여 선택\n",
    "scikit-learn의 GridSearchCV() 함수를 사용."
   ]
  },
  {
   "cell_type": "code",
   "execution_count": 74,
   "metadata": {},
   "outputs": [
    {
     "name": "stdout",
     "output_type": "stream",
     "text": [
      "Fitting 4 folds for each of 24 candidates, totalling 96 fits\n",
      "[CV 1/4] END criterion=entropy, max_depth=2, min_samples_leaf=4, min_samples_split=5, n_estimators=20;, score=0.999 total time=   2.2s\n",
      "[CV 2/4] END criterion=entropy, max_depth=2, min_samples_leaf=4, min_samples_split=5, n_estimators=20;, score=0.999 total time=   2.2s\n",
      "[CV 3/4] END criterion=entropy, max_depth=2, min_samples_leaf=4, min_samples_split=5, n_estimators=20;, score=0.999 total time=   2.2s\n",
      "[CV 4/4] END criterion=entropy, max_depth=2, min_samples_leaf=4, min_samples_split=5, n_estimators=20;, score=0.999 total time=   2.2s\n",
      "[CV 1/4] END criterion=entropy, max_depth=2, min_samples_leaf=4, min_samples_split=5, n_estimators=50;, score=0.999 total time=   5.6s\n",
      "[CV 2/4] END criterion=entropy, max_depth=2, min_samples_leaf=4, min_samples_split=5, n_estimators=50;, score=0.999 total time=   5.5s\n",
      "[CV 3/4] END criterion=entropy, max_depth=2, min_samples_leaf=4, min_samples_split=5, n_estimators=50;, score=0.999 total time=   5.5s\n",
      "[CV 4/4] END criterion=entropy, max_depth=2, min_samples_leaf=4, min_samples_split=5, n_estimators=50;, score=0.999 total time=   5.6s\n",
      "[CV 1/4] END criterion=entropy, max_depth=2, min_samples_leaf=4, min_samples_split=7, n_estimators=20;, score=0.999 total time=   2.2s\n",
      "[CV 2/4] END criterion=entropy, max_depth=2, min_samples_leaf=4, min_samples_split=7, n_estimators=20;, score=0.999 total time=   2.2s\n",
      "[CV 3/4] END criterion=entropy, max_depth=2, min_samples_leaf=4, min_samples_split=7, n_estimators=20;, score=0.999 total time=   2.2s\n",
      "[CV 4/4] END criterion=entropy, max_depth=2, min_samples_leaf=4, min_samples_split=7, n_estimators=20;, score=0.999 total time=   2.1s\n",
      "[CV 1/4] END criterion=entropy, max_depth=2, min_samples_leaf=4, min_samples_split=7, n_estimators=50;, score=0.999 total time=   5.5s\n",
      "[CV 2/4] END criterion=entropy, max_depth=2, min_samples_leaf=4, min_samples_split=7, n_estimators=50;, score=0.999 total time=   5.5s\n",
      "[CV 3/4] END criterion=entropy, max_depth=2, min_samples_leaf=4, min_samples_split=7, n_estimators=50;, score=0.999 total time=   5.5s\n",
      "[CV 4/4] END criterion=entropy, max_depth=2, min_samples_leaf=4, min_samples_split=7, n_estimators=50;, score=0.999 total time=   5.5s\n",
      "[CV 1/4] END criterion=entropy, max_depth=2, min_samples_leaf=4, min_samples_split=10, n_estimators=20;, score=0.999 total time=   2.2s\n",
      "[CV 2/4] END criterion=entropy, max_depth=2, min_samples_leaf=4, min_samples_split=10, n_estimators=20;, score=0.999 total time=   2.2s\n",
      "[CV 3/4] END criterion=entropy, max_depth=2, min_samples_leaf=4, min_samples_split=10, n_estimators=20;, score=0.999 total time=   2.1s\n",
      "[CV 4/4] END criterion=entropy, max_depth=2, min_samples_leaf=4, min_samples_split=10, n_estimators=20;, score=0.999 total time=   2.1s\n",
      "[CV 1/4] END criterion=entropy, max_depth=2, min_samples_leaf=4, min_samples_split=10, n_estimators=50;, score=0.999 total time=   5.5s\n",
      "[CV 2/4] END criterion=entropy, max_depth=2, min_samples_leaf=4, min_samples_split=10, n_estimators=50;, score=0.999 total time=   5.5s\n",
      "[CV 3/4] END criterion=entropy, max_depth=2, min_samples_leaf=4, min_samples_split=10, n_estimators=50;, score=0.999 total time=   5.5s\n",
      "[CV 4/4] END criterion=entropy, max_depth=2, min_samples_leaf=4, min_samples_split=10, n_estimators=50;, score=0.999 total time=   5.5s\n",
      "[CV 1/4] END criterion=entropy, max_depth=2, min_samples_leaf=8, min_samples_split=5, n_estimators=20;, score=0.999 total time=   2.1s\n",
      "[CV 2/4] END criterion=entropy, max_depth=2, min_samples_leaf=8, min_samples_split=5, n_estimators=20;, score=0.999 total time=   2.1s\n",
      "[CV 3/4] END criterion=entropy, max_depth=2, min_samples_leaf=8, min_samples_split=5, n_estimators=20;, score=0.999 total time=   2.1s\n",
      "[CV 4/4] END criterion=entropy, max_depth=2, min_samples_leaf=8, min_samples_split=5, n_estimators=20;, score=0.999 total time=   2.1s\n",
      "[CV 1/4] END criterion=entropy, max_depth=2, min_samples_leaf=8, min_samples_split=5, n_estimators=50;, score=0.999 total time=   5.5s\n",
      "[CV 2/4] END criterion=entropy, max_depth=2, min_samples_leaf=8, min_samples_split=5, n_estimators=50;, score=0.999 total time=   5.5s\n",
      "[CV 3/4] END criterion=entropy, max_depth=2, min_samples_leaf=8, min_samples_split=5, n_estimators=50;, score=0.999 total time=   5.5s\n",
      "[CV 4/4] END criterion=entropy, max_depth=2, min_samples_leaf=8, min_samples_split=5, n_estimators=50;, score=0.999 total time=   5.5s\n",
      "[CV 1/4] END criterion=entropy, max_depth=2, min_samples_leaf=8, min_samples_split=7, n_estimators=20;, score=0.999 total time=   2.1s\n",
      "[CV 2/4] END criterion=entropy, max_depth=2, min_samples_leaf=8, min_samples_split=7, n_estimators=20;, score=0.999 total time=   2.1s\n",
      "[CV 3/4] END criterion=entropy, max_depth=2, min_samples_leaf=8, min_samples_split=7, n_estimators=20;, score=0.999 total time=   2.1s\n",
      "[CV 4/4] END criterion=entropy, max_depth=2, min_samples_leaf=8, min_samples_split=7, n_estimators=20;, score=0.999 total time=   2.1s\n",
      "[CV 1/4] END criterion=entropy, max_depth=2, min_samples_leaf=8, min_samples_split=7, n_estimators=50;, score=0.999 total time=   5.5s\n",
      "[CV 2/4] END criterion=entropy, max_depth=2, min_samples_leaf=8, min_samples_split=7, n_estimators=50;, score=0.999 total time=   5.5s\n",
      "[CV 3/4] END criterion=entropy, max_depth=2, min_samples_leaf=8, min_samples_split=7, n_estimators=50;, score=0.999 total time=   5.5s\n",
      "[CV 4/4] END criterion=entropy, max_depth=2, min_samples_leaf=8, min_samples_split=7, n_estimators=50;, score=0.999 total time=   5.5s\n",
      "[CV 1/4] END criterion=entropy, max_depth=2, min_samples_leaf=8, min_samples_split=10, n_estimators=20;, score=0.999 total time=   2.2s\n",
      "[CV 2/4] END criterion=entropy, max_depth=2, min_samples_leaf=8, min_samples_split=10, n_estimators=20;, score=0.999 total time=   2.1s\n",
      "[CV 3/4] END criterion=entropy, max_depth=2, min_samples_leaf=8, min_samples_split=10, n_estimators=20;, score=0.999 total time=   2.2s\n",
      "[CV 4/4] END criterion=entropy, max_depth=2, min_samples_leaf=8, min_samples_split=10, n_estimators=20;, score=0.999 total time=   2.2s\n",
      "[CV 1/4] END criterion=entropy, max_depth=2, min_samples_leaf=8, min_samples_split=10, n_estimators=50;, score=0.999 total time=   5.6s\n",
      "[CV 2/4] END criterion=entropy, max_depth=2, min_samples_leaf=8, min_samples_split=10, n_estimators=50;, score=0.999 total time=   5.6s\n",
      "[CV 3/4] END criterion=entropy, max_depth=2, min_samples_leaf=8, min_samples_split=10, n_estimators=50;, score=0.999 total time=   5.5s\n",
      "[CV 4/4] END criterion=entropy, max_depth=2, min_samples_leaf=8, min_samples_split=10, n_estimators=50;, score=0.999 total time=   5.5s\n",
      "[CV 1/4] END criterion=gini, max_depth=2, min_samples_leaf=4, min_samples_split=5, n_estimators=20;, score=0.999 total time=   1.9s\n",
      "[CV 2/4] END criterion=gini, max_depth=2, min_samples_leaf=4, min_samples_split=5, n_estimators=20;, score=0.999 total time=   1.9s\n",
      "[CV 3/4] END criterion=gini, max_depth=2, min_samples_leaf=4, min_samples_split=5, n_estimators=20;, score=0.999 total time=   2.0s\n",
      "[CV 4/4] END criterion=gini, max_depth=2, min_samples_leaf=4, min_samples_split=5, n_estimators=20;, score=0.999 total time=   2.0s\n",
      "[CV 1/4] END criterion=gini, max_depth=2, min_samples_leaf=4, min_samples_split=5, n_estimators=50;, score=0.999 total time=   5.1s\n",
      "[CV 2/4] END criterion=gini, max_depth=2, min_samples_leaf=4, min_samples_split=5, n_estimators=50;, score=0.999 total time=   5.0s\n",
      "[CV 3/4] END criterion=gini, max_depth=2, min_samples_leaf=4, min_samples_split=5, n_estimators=50;, score=0.999 total time=   5.0s\n",
      "[CV 4/4] END criterion=gini, max_depth=2, min_samples_leaf=4, min_samples_split=5, n_estimators=50;, score=0.999 total time=   5.0s\n",
      "[CV 1/4] END criterion=gini, max_depth=2, min_samples_leaf=4, min_samples_split=7, n_estimators=20;, score=0.999 total time=   2.0s\n",
      "[CV 2/4] END criterion=gini, max_depth=2, min_samples_leaf=4, min_samples_split=7, n_estimators=20;, score=0.999 total time=   1.9s\n",
      "[CV 3/4] END criterion=gini, max_depth=2, min_samples_leaf=4, min_samples_split=7, n_estimators=20;, score=0.999 total time=   1.9s\n",
      "[CV 4/4] END criterion=gini, max_depth=2, min_samples_leaf=4, min_samples_split=7, n_estimators=20;, score=0.999 total time=   1.9s\n",
      "[CV 1/4] END criterion=gini, max_depth=2, min_samples_leaf=4, min_samples_split=7, n_estimators=50;, score=0.999 total time=   5.0s\n",
      "[CV 2/4] END criterion=gini, max_depth=2, min_samples_leaf=4, min_samples_split=7, n_estimators=50;, score=0.999 total time=   5.1s\n",
      "[CV 3/4] END criterion=gini, max_depth=2, min_samples_leaf=4, min_samples_split=7, n_estimators=50;, score=0.999 total time=   5.1s\n",
      "[CV 4/4] END criterion=gini, max_depth=2, min_samples_leaf=4, min_samples_split=7, n_estimators=50;, score=0.999 total time=   5.1s\n",
      "[CV 1/4] END criterion=gini, max_depth=2, min_samples_leaf=4, min_samples_split=10, n_estimators=20;, score=0.999 total time=   2.0s\n",
      "[CV 2/4] END criterion=gini, max_depth=2, min_samples_leaf=4, min_samples_split=10, n_estimators=20;, score=0.999 total time=   2.0s\n",
      "[CV 3/4] END criterion=gini, max_depth=2, min_samples_leaf=4, min_samples_split=10, n_estimators=20;, score=0.999 total time=   2.0s\n",
      "[CV 4/4] END criterion=gini, max_depth=2, min_samples_leaf=4, min_samples_split=10, n_estimators=20;, score=0.999 total time=   2.0s\n",
      "[CV 1/4] END criterion=gini, max_depth=2, min_samples_leaf=4, min_samples_split=10, n_estimators=50;, score=0.999 total time=   5.0s\n",
      "[CV 2/4] END criterion=gini, max_depth=2, min_samples_leaf=4, min_samples_split=10, n_estimators=50;, score=0.999 total time=   5.0s\n",
      "[CV 3/4] END criterion=gini, max_depth=2, min_samples_leaf=4, min_samples_split=10, n_estimators=50;, score=0.999 total time=   5.0s\n",
      "[CV 4/4] END criterion=gini, max_depth=2, min_samples_leaf=4, min_samples_split=10, n_estimators=50;, score=0.999 total time=   5.1s\n",
      "[CV 1/4] END criterion=gini, max_depth=2, min_samples_leaf=8, min_samples_split=5, n_estimators=20;, score=0.999 total time=   1.9s\n",
      "[CV 2/4] END criterion=gini, max_depth=2, min_samples_leaf=8, min_samples_split=5, n_estimators=20;, score=0.999 total time=   1.9s\n",
      "[CV 3/4] END criterion=gini, max_depth=2, min_samples_leaf=8, min_samples_split=5, n_estimators=20;, score=0.999 total time=   1.9s\n",
      "[CV 4/4] END criterion=gini, max_depth=2, min_samples_leaf=8, min_samples_split=5, n_estimators=20;, score=0.999 total time=   1.9s\n",
      "[CV 1/4] END criterion=gini, max_depth=2, min_samples_leaf=8, min_samples_split=5, n_estimators=50;, score=0.999 total time=   5.0s\n",
      "[CV 2/4] END criterion=gini, max_depth=2, min_samples_leaf=8, min_samples_split=5, n_estimators=50;, score=0.999 total time=   5.0s\n",
      "[CV 3/4] END criterion=gini, max_depth=2, min_samples_leaf=8, min_samples_split=5, n_estimators=50;, score=0.999 total time=   5.0s\n",
      "[CV 4/4] END criterion=gini, max_depth=2, min_samples_leaf=8, min_samples_split=5, n_estimators=50;, score=0.999 total time=   4.9s\n",
      "[CV 1/4] END criterion=gini, max_depth=2, min_samples_leaf=8, min_samples_split=7, n_estimators=20;, score=0.999 total time=   1.9s\n",
      "[CV 2/4] END criterion=gini, max_depth=2, min_samples_leaf=8, min_samples_split=7, n_estimators=20;, score=0.999 total time=   1.9s\n",
      "[CV 3/4] END criterion=gini, max_depth=2, min_samples_leaf=8, min_samples_split=7, n_estimators=20;, score=0.999 total time=   1.9s\n",
      "[CV 4/4] END criterion=gini, max_depth=2, min_samples_leaf=8, min_samples_split=7, n_estimators=20;, score=0.999 total time=   1.9s\n",
      "[CV 1/4] END criterion=gini, max_depth=2, min_samples_leaf=8, min_samples_split=7, n_estimators=50;, score=0.999 total time=   5.0s\n",
      "[CV 2/4] END criterion=gini, max_depth=2, min_samples_leaf=8, min_samples_split=7, n_estimators=50;, score=0.999 total time=   5.0s\n",
      "[CV 3/4] END criterion=gini, max_depth=2, min_samples_leaf=8, min_samples_split=7, n_estimators=50;, score=0.999 total time=   4.8s\n",
      "[CV 4/4] END criterion=gini, max_depth=2, min_samples_leaf=8, min_samples_split=7, n_estimators=50;, score=0.999 total time=   4.8s\n",
      "[CV 1/4] END criterion=gini, max_depth=2, min_samples_leaf=8, min_samples_split=10, n_estimators=20;, score=0.999 total time=   1.9s\n",
      "[CV 2/4] END criterion=gini, max_depth=2, min_samples_leaf=8, min_samples_split=10, n_estimators=20;, score=0.999 total time=   1.9s\n",
      "[CV 3/4] END criterion=gini, max_depth=2, min_samples_leaf=8, min_samples_split=10, n_estimators=20;, score=0.999 total time=   1.9s\n",
      "[CV 4/4] END criterion=gini, max_depth=2, min_samples_leaf=8, min_samples_split=10, n_estimators=20;, score=0.999 total time=   1.9s\n",
      "[CV 1/4] END criterion=gini, max_depth=2, min_samples_leaf=8, min_samples_split=10, n_estimators=50;, score=0.999 total time=   4.8s\n",
      "[CV 2/4] END criterion=gini, max_depth=2, min_samples_leaf=8, min_samples_split=10, n_estimators=50;, score=0.999 total time=   4.8s\n",
      "[CV 3/4] END criterion=gini, max_depth=2, min_samples_leaf=8, min_samples_split=10, n_estimators=50;, score=0.999 total time=   4.8s\n",
      "[CV 4/4] END criterion=gini, max_depth=2, min_samples_leaf=8, min_samples_split=10, n_estimators=50;, score=0.999 total time=   4.9s\n",
      "[[85279    20]\n",
      " [   42   102]]\n",
      "              precision    recall  f1-score   support\n",
      "\n",
      "           0       1.00      1.00      1.00     85299\n",
      "           1       0.84      0.71      0.77       144\n",
      "\n",
      "    accuracy                           1.00     85443\n",
      "   macro avg       0.92      0.85      0.88     85443\n",
      "weighted avg       1.00      1.00      1.00     85443\n",
      "\n"
     ]
    }
   ],
   "source": [
    "from sklearn.model_selection import GridSearchCV\n",
    "\n",
    "grid_search = {'criterion': ['entropy', 'gini'],\n",
    "               'max_depth': [2],\n",
    "               'min_samples_leaf': [4, 8],\n",
    "               'min_samples_split': [5, 7,10],\n",
    "               'n_estimators': [20,50]}\n",
    "\n",
    "clf = RandomForestClassifier()\n",
    "model = GridSearchCV(estimator = clf, param_grid = grid_search, \n",
    "                               cv = 4, verbose= 5, n_jobs = 1)\n",
    "model.fit(X_Train,Y_Train)\n",
    "\n",
    "predictionforest = model.best_estimator_.predict(X_Test)\n",
    "print(confusion_matrix(Y_Test,predictionforest))\n",
    "print(classification_report(Y_Test,predictionforest))\n",
    "acc3 = accuracy_score(Y_Test,predictionforest)"
   ]
  },
  {
   "cell_type": "code",
   "execution_count": 75,
   "metadata": {},
   "outputs": [
    {
     "name": "stdout",
     "output_type": "stream",
     "text": [
      "Best Score:  0.9991924319335487\n"
     ]
    },
    {
     "data": {
      "text/plain": [
       "{'criterion': 'gini',\n",
       " 'max_depth': 2,\n",
       " 'min_samples_leaf': 4,\n",
       " 'min_samples_split': 10,\n",
       " 'n_estimators': 50}"
      ]
     },
     "execution_count": 75,
     "metadata": {},
     "output_type": "execute_result"
    }
   ],
   "source": [
    "print(\"Best Score: \", model.best_score_)\n",
    "model.best_params_"
   ]
  },
  {
   "cell_type": "markdown",
   "metadata": {},
   "source": [
    "## 4. Random Search\n",
    "Grid Search와 같이 그리드를 설정하고, 그리드 내에서 랜덤적으로 조합을 만들어 정한 개수만큼 학습하여 비교한다."
   ]
  },
  {
   "cell_type": "code",
   "execution_count": 76,
   "metadata": {},
   "outputs": [
    {
     "name": "stdout",
     "output_type": "stream",
     "text": [
      "Fitting 4 folds for each of 10 candidates, totalling 40 fits\n",
      "[CV 1/4] END criterion=gini, max_depth=2, min_samples_leaf=8, min_samples_split=5, n_estimators=50;, score=0.999 total time=   4.9s\n",
      "[CV 2/4] END criterion=gini, max_depth=2, min_samples_leaf=8, min_samples_split=5, n_estimators=50;, score=0.999 total time=   4.9s\n",
      "[CV 3/4] END criterion=gini, max_depth=2, min_samples_leaf=8, min_samples_split=5, n_estimators=50;, score=0.999 total time=   4.9s\n",
      "[CV 4/4] END criterion=gini, max_depth=2, min_samples_leaf=8, min_samples_split=5, n_estimators=50;, score=0.999 total time=   4.8s\n",
      "[CV 1/4] END criterion=entropy, max_depth=2, min_samples_leaf=8, min_samples_split=10, n_estimators=20;, score=0.999 total time=   2.1s\n",
      "[CV 2/4] END criterion=entropy, max_depth=2, min_samples_leaf=8, min_samples_split=10, n_estimators=20;, score=0.999 total time=   2.1s\n",
      "[CV 3/4] END criterion=entropy, max_depth=2, min_samples_leaf=8, min_samples_split=10, n_estimators=20;, score=0.999 total time=   2.1s\n",
      "[CV 4/4] END criterion=entropy, max_depth=2, min_samples_leaf=8, min_samples_split=10, n_estimators=20;, score=0.999 total time=   2.1s\n",
      "[CV 1/4] END criterion=gini, max_depth=2, min_samples_leaf=8, min_samples_split=7, n_estimators=50;, score=0.999 total time=   4.9s\n",
      "[CV 2/4] END criterion=gini, max_depth=2, min_samples_leaf=8, min_samples_split=7, n_estimators=50;, score=0.999 total time=   4.8s\n",
      "[CV 3/4] END criterion=gini, max_depth=2, min_samples_leaf=8, min_samples_split=7, n_estimators=50;, score=0.999 total time=   4.8s\n",
      "[CV 4/4] END criterion=gini, max_depth=2, min_samples_leaf=8, min_samples_split=7, n_estimators=50;, score=0.999 total time=   4.8s\n",
      "[CV 1/4] END criterion=gini, max_depth=2, min_samples_leaf=8, min_samples_split=5, n_estimators=20;, score=0.999 total time=   1.9s\n",
      "[CV 2/4] END criterion=gini, max_depth=2, min_samples_leaf=8, min_samples_split=5, n_estimators=20;, score=0.999 total time=   1.9s\n",
      "[CV 3/4] END criterion=gini, max_depth=2, min_samples_leaf=8, min_samples_split=5, n_estimators=20;, score=0.999 total time=   1.9s\n",
      "[CV 4/4] END criterion=gini, max_depth=2, min_samples_leaf=8, min_samples_split=5, n_estimators=20;, score=0.999 total time=   1.9s\n",
      "[CV 1/4] END criterion=entropy, max_depth=2, min_samples_leaf=8, min_samples_split=5, n_estimators=50;, score=0.999 total time=   5.3s\n",
      "[CV 2/4] END criterion=entropy, max_depth=2, min_samples_leaf=8, min_samples_split=5, n_estimators=50;, score=0.999 total time=   5.3s\n",
      "[CV 3/4] END criterion=entropy, max_depth=2, min_samples_leaf=8, min_samples_split=5, n_estimators=50;, score=0.999 total time=   5.4s\n",
      "[CV 4/4] END criterion=entropy, max_depth=2, min_samples_leaf=8, min_samples_split=5, n_estimators=50;, score=0.999 total time=   5.5s\n",
      "[CV 1/4] END criterion=gini, max_depth=2, min_samples_leaf=8, min_samples_split=7, n_estimators=20;, score=0.999 total time=   1.9s\n",
      "[CV 2/4] END criterion=gini, max_depth=2, min_samples_leaf=8, min_samples_split=7, n_estimators=20;, score=0.999 total time=   1.9s\n",
      "[CV 3/4] END criterion=gini, max_depth=2, min_samples_leaf=8, min_samples_split=7, n_estimators=20;, score=0.999 total time=   1.9s\n",
      "[CV 4/4] END criterion=gini, max_depth=2, min_samples_leaf=8, min_samples_split=7, n_estimators=20;, score=0.999 total time=   1.9s\n",
      "[CV 1/4] END criterion=entropy, max_depth=2, min_samples_leaf=4, min_samples_split=7, n_estimators=20;, score=0.999 total time=   2.1s\n",
      "[CV 2/4] END criterion=entropy, max_depth=2, min_samples_leaf=4, min_samples_split=7, n_estimators=20;, score=0.999 total time=   2.1s\n",
      "[CV 3/4] END criterion=entropy, max_depth=2, min_samples_leaf=4, min_samples_split=7, n_estimators=20;, score=0.999 total time=   2.1s\n",
      "[CV 4/4] END criterion=entropy, max_depth=2, min_samples_leaf=4, min_samples_split=7, n_estimators=20;, score=0.999 total time=   2.1s\n",
      "[CV 1/4] END criterion=entropy, max_depth=2, min_samples_leaf=4, min_samples_split=7, n_estimators=50;, score=0.999 total time=   5.4s\n",
      "[CV 2/4] END criterion=entropy, max_depth=2, min_samples_leaf=4, min_samples_split=7, n_estimators=50;, score=0.999 total time=   5.5s\n",
      "[CV 3/4] END criterion=entropy, max_depth=2, min_samples_leaf=4, min_samples_split=7, n_estimators=50;, score=0.999 total time=   5.5s\n",
      "[CV 4/4] END criterion=entropy, max_depth=2, min_samples_leaf=4, min_samples_split=7, n_estimators=50;, score=0.999 total time=   5.4s\n",
      "[CV 1/4] END criterion=entropy, max_depth=2, min_samples_leaf=4, min_samples_split=5, n_estimators=50;, score=0.999 total time=   5.4s\n",
      "[CV 2/4] END criterion=entropy, max_depth=2, min_samples_leaf=4, min_samples_split=5, n_estimators=50;, score=0.999 total time=   5.5s\n",
      "[CV 3/4] END criterion=entropy, max_depth=2, min_samples_leaf=4, min_samples_split=5, n_estimators=50;, score=0.999 total time=   5.5s\n",
      "[CV 4/4] END criterion=entropy, max_depth=2, min_samples_leaf=4, min_samples_split=5, n_estimators=50;, score=0.999 total time=   5.5s\n",
      "[CV 1/4] END criterion=gini, max_depth=2, min_samples_leaf=4, min_samples_split=7, n_estimators=20;, score=0.999 total time=   2.0s\n",
      "[CV 2/4] END criterion=gini, max_depth=2, min_samples_leaf=4, min_samples_split=7, n_estimators=20;, score=0.999 total time=   2.0s\n",
      "[CV 3/4] END criterion=gini, max_depth=2, min_samples_leaf=4, min_samples_split=7, n_estimators=20;, score=0.999 total time=   1.9s\n",
      "[CV 4/4] END criterion=gini, max_depth=2, min_samples_leaf=4, min_samples_split=7, n_estimators=20;, score=0.999 total time=   1.9s\n"
     ]
    },
    {
     "data": {
      "text/html": [
       "<style>#sk-container-id-2 {color: black;}#sk-container-id-2 pre{padding: 0;}#sk-container-id-2 div.sk-toggleable {background-color: white;}#sk-container-id-2 label.sk-toggleable__label {cursor: pointer;display: block;width: 100%;margin-bottom: 0;padding: 0.3em;box-sizing: border-box;text-align: center;}#sk-container-id-2 label.sk-toggleable__label-arrow:before {content: \"▸\";float: left;margin-right: 0.25em;color: #696969;}#sk-container-id-2 label.sk-toggleable__label-arrow:hover:before {color: black;}#sk-container-id-2 div.sk-estimator:hover label.sk-toggleable__label-arrow:before {color: black;}#sk-container-id-2 div.sk-toggleable__content {max-height: 0;max-width: 0;overflow: hidden;text-align: left;background-color: #f0f8ff;}#sk-container-id-2 div.sk-toggleable__content pre {margin: 0.2em;color: black;border-radius: 0.25em;background-color: #f0f8ff;}#sk-container-id-2 input.sk-toggleable__control:checked~div.sk-toggleable__content {max-height: 200px;max-width: 100%;overflow: auto;}#sk-container-id-2 input.sk-toggleable__control:checked~label.sk-toggleable__label-arrow:before {content: \"▾\";}#sk-container-id-2 div.sk-estimator input.sk-toggleable__control:checked~label.sk-toggleable__label {background-color: #d4ebff;}#sk-container-id-2 div.sk-label input.sk-toggleable__control:checked~label.sk-toggleable__label {background-color: #d4ebff;}#sk-container-id-2 input.sk-hidden--visually {border: 0;clip: rect(1px 1px 1px 1px);clip: rect(1px, 1px, 1px, 1px);height: 1px;margin: -1px;overflow: hidden;padding: 0;position: absolute;width: 1px;}#sk-container-id-2 div.sk-estimator {font-family: monospace;background-color: #f0f8ff;border: 1px dotted black;border-radius: 0.25em;box-sizing: border-box;margin-bottom: 0.5em;}#sk-container-id-2 div.sk-estimator:hover {background-color: #d4ebff;}#sk-container-id-2 div.sk-parallel-item::after {content: \"\";width: 100%;border-bottom: 1px solid gray;flex-grow: 1;}#sk-container-id-2 div.sk-label:hover label.sk-toggleable__label {background-color: #d4ebff;}#sk-container-id-2 div.sk-serial::before {content: \"\";position: absolute;border-left: 1px solid gray;box-sizing: border-box;top: 0;bottom: 0;left: 50%;z-index: 0;}#sk-container-id-2 div.sk-serial {display: flex;flex-direction: column;align-items: center;background-color: white;padding-right: 0.2em;padding-left: 0.2em;position: relative;}#sk-container-id-2 div.sk-item {position: relative;z-index: 1;}#sk-container-id-2 div.sk-parallel {display: flex;align-items: stretch;justify-content: center;background-color: white;position: relative;}#sk-container-id-2 div.sk-item::before, #sk-container-id-2 div.sk-parallel-item::before {content: \"\";position: absolute;border-left: 1px solid gray;box-sizing: border-box;top: 0;bottom: 0;left: 50%;z-index: -1;}#sk-container-id-2 div.sk-parallel-item {display: flex;flex-direction: column;z-index: 1;position: relative;background-color: white;}#sk-container-id-2 div.sk-parallel-item:first-child::after {align-self: flex-end;width: 50%;}#sk-container-id-2 div.sk-parallel-item:last-child::after {align-self: flex-start;width: 50%;}#sk-container-id-2 div.sk-parallel-item:only-child::after {width: 0;}#sk-container-id-2 div.sk-dashed-wrapped {border: 1px dashed gray;margin: 0 0.4em 0.5em 0.4em;box-sizing: border-box;padding-bottom: 0.4em;background-color: white;}#sk-container-id-2 div.sk-label label {font-family: monospace;font-weight: bold;display: inline-block;line-height: 1.2em;}#sk-container-id-2 div.sk-label-container {text-align: center;}#sk-container-id-2 div.sk-container {/* jupyter's `normalize.less` sets `[hidden] { display: none; }` but bootstrap.min.css set `[hidden] { display: none !important; }` so we also need the `!important` here to be able to override the default hidden behavior on the sphinx rendered scikit-learn.org. See: https://github.com/scikit-learn/scikit-learn/issues/21755 */display: inline-block !important;position: relative;}#sk-container-id-2 div.sk-text-repr-fallback {display: none;}</style><div id=\"sk-container-id-2\" class=\"sk-top-container\"><div class=\"sk-text-repr-fallback\"><pre>RandomizedSearchCV(cv=4, estimator=RandomForestClassifier(), n_jobs=1,\n",
       "                   param_distributions={&#x27;criterion&#x27;: [&#x27;entropy&#x27;, &#x27;gini&#x27;],\n",
       "                                        &#x27;max_depth&#x27;: [2],\n",
       "                                        &#x27;min_samples_leaf&#x27;: [4, 8],\n",
       "                                        &#x27;min_samples_split&#x27;: [5, 7, 10],\n",
       "                                        &#x27;n_estimators&#x27;: [20, 50]},\n",
       "                   random_state=101, verbose=5)</pre><b>In a Jupyter environment, please rerun this cell to show the HTML representation or trust the notebook. <br />On GitHub, the HTML representation is unable to render, please try loading this page with nbviewer.org.</b></div><div class=\"sk-container\" hidden><div class=\"sk-item sk-dashed-wrapped\"><div class=\"sk-label-container\"><div class=\"sk-label sk-toggleable\"><input class=\"sk-toggleable__control sk-hidden--visually\" id=\"sk-estimator-id-4\" type=\"checkbox\" ><label for=\"sk-estimator-id-4\" class=\"sk-toggleable__label sk-toggleable__label-arrow\">RandomizedSearchCV</label><div class=\"sk-toggleable__content\"><pre>RandomizedSearchCV(cv=4, estimator=RandomForestClassifier(), n_jobs=1,\n",
       "                   param_distributions={&#x27;criterion&#x27;: [&#x27;entropy&#x27;, &#x27;gini&#x27;],\n",
       "                                        &#x27;max_depth&#x27;: [2],\n",
       "                                        &#x27;min_samples_leaf&#x27;: [4, 8],\n",
       "                                        &#x27;min_samples_split&#x27;: [5, 7, 10],\n",
       "                                        &#x27;n_estimators&#x27;: [20, 50]},\n",
       "                   random_state=101, verbose=5)</pre></div></div></div><div class=\"sk-parallel\"><div class=\"sk-parallel-item\"><div class=\"sk-item\"><div class=\"sk-label-container\"><div class=\"sk-label sk-toggleable\"><input class=\"sk-toggleable__control sk-hidden--visually\" id=\"sk-estimator-id-5\" type=\"checkbox\" ><label for=\"sk-estimator-id-5\" class=\"sk-toggleable__label sk-toggleable__label-arrow\">estimator: RandomForestClassifier</label><div class=\"sk-toggleable__content\"><pre>RandomForestClassifier()</pre></div></div></div><div class=\"sk-serial\"><div class=\"sk-item\"><div class=\"sk-estimator sk-toggleable\"><input class=\"sk-toggleable__control sk-hidden--visually\" id=\"sk-estimator-id-6\" type=\"checkbox\" ><label for=\"sk-estimator-id-6\" class=\"sk-toggleable__label sk-toggleable__label-arrow\">RandomForestClassifier</label><div class=\"sk-toggleable__content\"><pre>RandomForestClassifier()</pre></div></div></div></div></div></div></div></div></div></div>"
      ],
      "text/plain": [
       "RandomizedSearchCV(cv=4, estimator=RandomForestClassifier(), n_jobs=1,\n",
       "                   param_distributions={'criterion': ['entropy', 'gini'],\n",
       "                                        'max_depth': [2],\n",
       "                                        'min_samples_leaf': [4, 8],\n",
       "                                        'min_samples_split': [5, 7, 10],\n",
       "                                        'n_estimators': [20, 50]},\n",
       "                   random_state=101, verbose=5)"
      ]
     },
     "execution_count": 76,
     "metadata": {},
     "output_type": "execute_result"
    }
   ],
   "source": [
    "import numpy as np \n",
    "from sklearn.model_selection import RandomizedSearchCV\n",
    "from sklearn.model_selection import cross_val_score\n",
    "\n",
    "random_search = {'criterion': ['entropy', 'gini'],\n",
    "               'max_depth': [2],\n",
    "               'min_samples_leaf': [4, 8],\n",
    "               'min_samples_split': [5, 7,10],\n",
    "               'n_estimators': [20,50]}\n",
    "\n",
    "clf = RandomForestClassifier()\n",
    "model = RandomizedSearchCV(estimator = clf, param_distributions = random_search, n_iter = 10, \n",
    "                               cv = 4, verbose= 5, random_state= 101, n_jobs = 1)\n",
    "model.fit(X_Train,Y_Train)"
   ]
  },
  {
   "cell_type": "code",
   "execution_count": 77,
   "metadata": {},
   "outputs": [
    {
     "name": "stdout",
     "output_type": "stream",
     "text": [
      "[[85280    19]\n",
      " [   40   104]]\n",
      "              precision    recall  f1-score   support\n",
      "\n",
      "           0       1.00      1.00      1.00     85299\n",
      "           1       0.85      0.72      0.78       144\n",
      "\n",
      "    accuracy                           1.00     85443\n",
      "   macro avg       0.92      0.86      0.89     85443\n",
      "weighted avg       1.00      1.00      1.00     85443\n",
      "\n"
     ]
    }
   ],
   "source": [
    "predictionforest = model.best_estimator_.predict(X_Test)\n",
    "print(confusion_matrix(Y_Test,predictionforest))\n",
    "print(classification_report(Y_Test,predictionforest))\n",
    "acc4 = accuracy_score(Y_Test,predictionforest)"
   ]
  },
  {
   "cell_type": "markdown",
   "metadata": {},
   "source": [
    "훈련 후 하이퍼파라미터 중 일부에 대한 영향을 확인 할 수 있다."
   ]
  },
  {
   "cell_type": "code",
   "execution_count": 78,
   "metadata": {},
   "outputs": [
    {
     "data": {
      "text/plain": [
       "<AxesSubplot:xlabel='param_criterion', ylabel='param_n_estimators'>"
      ]
     },
     "execution_count": 78,
     "metadata": {},
     "output_type": "execute_result"
    },
    {
     "data": {
      "image/png": "[encoded data removed]",
      "text/plain": [
       "<Figure size 640x480 with 2 Axes>"
      ]
     },
     "metadata": {},
     "output_type": "display_data"
    }
   ],
   "source": [
    "import seaborn as sns\n",
    "\n",
    "table = pd.pivot_table(pd.DataFrame(model.cv_results_),\n",
    "    values='mean_test_score', index='param_n_estimators', \n",
    "                       columns='param_criterion')\n",
    "     \n",
    "sns.heatmap(table)"
   ]
  },
  {
   "cell_type": "markdown",
   "metadata": {},
   "source": [
    "## 5. Automated Hyperparameter Tuning\n",
    "![](https://better.future-processing.com/directus/storage/uploads/2399317284eda5016daac68812d5d3c3.png)"
   ]
  },
  {
   "cell_type": "markdown",
   "metadata": {},
   "source": [
    "모델을 이용하여 하이퍼파라미터를 선택. (베이지안 최적화, 경사하강법, 진화알고리즘)"
   ]
  },
  {
   "cell_type": "markdown",
   "metadata": {},
   "source": [
    "### Bayesian Optimization using HyperOpt\n",
    "\n",
    "베이지안 최적화(Baysian Optimization)을 이용하여 최적의 하이퍼파라미터 선택, Random search 보다 빠르다.\n",
    "\n",
    "Hyeropt 라이브러리를 사용하여 python에서 수행 가능. \n",
    "\n",
    "Hyperopt의 fmin()를 사용하여 베이지안 최적화를 구현.\n",
    "* Objective Function = 최소화할 손실 함수를 정의.\n",
    "* Domain Space = 테스트할 입력 값의 범위를 정의(베이지안 최적화에서 이 공간은 사용된 각 하이퍼파라미터에 대한 확률 분포를 생성).\n",
    "* Optimization Algorithm = 각각의 새로운 반복에서 사용할 최상의 입력 값을 선택하는 데 사용할 검색 알고리즘을 정의."
   ]
  },
  {
   "cell_type": "code",
   "execution_count": 87,
   "metadata": {},
   "outputs": [
    {
     "name": "stdout",
     "output_type": "stream",
     "text": [
      "100%|██████████| 20/20 [02:28<00:00,  7.45s/trial, best loss: -0.9982544491482915]\n"
     ]
    },
    {
     "data": {
      "text/plain": [
       "{'criterion': 1,\n",
       " 'max_depth': 0,\n",
       " 'max_features': 2,\n",
       " 'min_samples_leaf': 0.20537311526071755,\n",
       " 'min_samples_split': 0.19752606483187185,\n",
       " 'n_estimators': 1}"
      ]
     },
     "execution_count": 87,
     "metadata": {},
     "output_type": "execute_result"
    }
   ],
   "source": [
    "from hyperopt import hp, fmin, tpe, STATUS_OK, Trials\n",
    "# \n",
    "space = {'criterion': hp.choice('criterion', ['entropy', 'gini']),\n",
    "        'max_depth': hp.choice('max_depth', np.arange(10, 12, dtype=int)),\n",
    "        'max_features': hp.choice('max_features', ['sqrt','log2', None]),\n",
    "        'min_samples_leaf': hp.uniform ('min_samples_leaf', 0, 0.5),\n",
    "        'min_samples_split' : hp.uniform ('min_samples_split', 0, 1),\n",
    "        'n_estimators' : hp.choice('n_estimators', [20, 50])\n",
    "    }\n",
    "\n",
    "def objective(space):\n",
    "    model = RandomForestClassifier(criterion = space['criterion'], \n",
    "                                   max_depth = space['max_depth'],\n",
    "                                 max_features = space['max_features'],\n",
    "                                 min_samples_leaf = space['min_samples_leaf'],\n",
    "                                 min_samples_split = space['min_samples_split'],\n",
    "                                 n_estimators = space['n_estimators'], \n",
    "                                 )\n",
    "    \n",
    "    accuracy = cross_val_score(model, X_Train, Y_Train, cv = 4).mean()\n",
    "\n",
    "    # We aim to maximize accuracy, therefore we return it as a negative value\n",
    "    return {'loss': -accuracy, 'status': STATUS_OK }\n",
    "    \n",
    "trials = Trials()\n",
    "best = fmin(fn= objective,\n",
    "            space= space,\n",
    "            algo= tpe.suggest,\n",
    "            max_evals = 20,\n",
    "            trials= trials)\n",
    "best"
   ]
  },
  {
   "cell_type": "code",
   "execution_count": 88,
   "metadata": {},
   "outputs": [
    {
     "name": "stdout",
     "output_type": "stream",
     "text": [
      "[[85299     0]\n",
      " [  144     0]]\n",
      "              precision    recall  f1-score   support\n",
      "\n",
      "           0       1.00      1.00      1.00     85299\n",
      "           1       0.00      0.00      0.00       144\n",
      "\n",
      "    accuracy                           1.00     85443\n",
      "   macro avg       0.50      0.50      0.50     85443\n",
      "weighted avg       1.00      1.00      1.00     85443\n",
      "\n"
     ]
    },
    {
     "name": "stderr",
     "output_type": "stream",
     "text": [
      "C:\\Users\\qntjr\\AppData\\Roaming\\Python\\Python310\\site-packages\\sklearn\\metrics\\_classification.py:1469: UndefinedMetricWarning: Precision and F-score are ill-defined and being set to 0.0 in labels with no predicted samples. Use `zero_division` parameter to control this behavior.\n",
      "  _warn_prf(average, modifier, msg_start, len(result))\n",
      "C:\\Users\\qntjr\\AppData\\Roaming\\Python\\Python310\\site-packages\\sklearn\\metrics\\_classification.py:1469: UndefinedMetricWarning: Precision and F-score are ill-defined and being set to 0.0 in labels with no predicted samples. Use `zero_division` parameter to control this behavior.\n",
      "  _warn_prf(average, modifier, msg_start, len(result))\n",
      "C:\\Users\\qntjr\\AppData\\Roaming\\Python\\Python310\\site-packages\\sklearn\\metrics\\_classification.py:1469: UndefinedMetricWarning: Precision and F-score are ill-defined and being set to 0.0 in labels with no predicted samples. Use `zero_division` parameter to control this behavior.\n",
      "  _warn_prf(average, modifier, msg_start, len(result))\n"
     ]
    }
   ],
   "source": [
    "crit = {0: 'entropy', 1: 'gini'}\n",
    "dep = {0:10, 1:11, 2:12}\n",
    "feat = {0: 'sqrt', 1: 'log2', 2: None}\n",
    "est = {0: 20, 1: 50}\n",
    "\n",
    "trainedforest = RandomForestClassifier(criterion = crit[best['criterion']], \n",
    "                                       max_depth = dep[best['max_depth']], \n",
    "                                       max_features = feat[best['max_features']], \n",
    "                                       min_samples_leaf = best['min_samples_leaf'], \n",
    "                                       min_samples_split = best['min_samples_split'], \n",
    "                                       n_estimators = est[best['n_estimators']]\n",
    "                                      ).fit(X_Train,Y_Train)\n",
    "predictionforest = trainedforest.predict(X_Test)\n",
    "print(confusion_matrix(Y_Test,predictionforest))\n",
    "print(classification_report(Y_Test,predictionforest))\n",
    "acc5 = accuracy_score(Y_Test,predictionforest)"
   ]
  },
  {
   "cell_type": "markdown",
   "metadata": {},
   "source": [
    "### Genetic Algorithms using TPOT"
   ]
  },
  {
   "cell_type": "code",
   "execution_count": null,
   "metadata": {},
   "outputs": [],
   "source": []
  },
  {
   "cell_type": "markdown",
   "metadata": {},
   "source": [
    "### Artificial Neural Networks (ANNs) Tuning"
   ]
  },
  {
   "cell_type": "markdown",
   "metadata": {},
   "source": [
    "## 6. Optuna"
   ]
  },
  {
   "cell_type": "markdown",
   "metadata": {},
   "source": [
    "## 7. Tune"
   ]
  },
  {
   "cell_type": "markdown",
   "metadata": {},
   "source": [
    "## 8. Sherpa"
   ]
  }
 ],
 "metadata": {
  "kernelspec": {
   "display_name": "Python 3",
   "language": "python",
   "name": "python3"
  },
  "language_info": {
   "codemirror_mode": {
    "name": "ipython",
    "version": 3
   },
   "file_extension": ".py",
   "mimetype": "text/x-python",
   "name": "python",
   "nbconvert_exporter": "python",
   "pygments_lexer": "ipython3",
   "version": "3.10.11"
  }
 },
 "nbformat": 4,
 "nbformat_minor": 2
}
